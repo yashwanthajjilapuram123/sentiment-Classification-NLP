{
 "cells": [
  {
   "cell_type": "markdown",
   "metadata": {
    "id": "f2S8I2ny-ovS"
   },
   "source": [
    "# ANLP Assignment: Sentiment Classification\n",
    "\n",
    "In this assignment, you will be investigating NLP methods for distinguishing positive and negative reviews written about movies.\n",
    "\n",
    "For assessment, you are expected to complete and submit this notebook file.  When answers require code, you may import and use library functions (unless explicitly told otherwise).  All of your own code should be included in the notebook rather than imported from elsewhere.  Written answers should also be included in the notebook.  You should insert as many extra cells as you want and change the type between code and markdown as appropriate.\n",
    "\n",
    "In order to avoid misconduct, you should not talk about the assignment questions with your peers.  If you are not sure what a question is asking you to do or have any other questions, please ask me or one of the Teaching Assistants.\n",
    "\n",
    "Marking guidelines are provided as a separate document.\n",
    "\n",
    "The first few cells contain code to set-up the assignment and bring in some data.   In order to provide unique datasets for analysis by different students, you must enter your candidate number in the following cell.  Otherwise do not change the code in these cells."
   ]
  },
  {
   "cell_type": "code",
   "execution_count": null,
   "metadata": {
    "id": "1gXQAZas-l9c"
   },
   "outputs": [],
   "source": [
    "candidateno=277241 #this MUST be updated to your candidate number so that you get a unique data sample\n"
   ]
  },
  {
   "cell_type": "code",
   "execution_count": null,
   "metadata": {
    "colab": {
     "base_uri": "https://localhost:8080/"
    },
    "id": "nk8JTP88A8vs",
    "outputId": "5ce22518-19d8-4c38-b8f9-13732a3c7a44"
   },
   "outputs": [
    {
     "name": "stderr",
     "output_type": "stream",
     "text": [
      "[nltk_data] Downloading package punkt to\n",
      "[nltk_data]     C:\\Users\\LENOVO\\AppData\\Roaming\\nltk_data...\n",
      "[nltk_data]   Package punkt is already up-to-date!\n",
      "[nltk_data] Downloading package stopwords to\n",
      "[nltk_data]     C:\\Users\\LENOVO\\AppData\\Roaming\\nltk_data...\n",
      "[nltk_data]   Package stopwords is already up-to-date!\n",
      "[nltk_data] Downloading package movie_reviews to\n",
      "[nltk_data]     C:\\Users\\LENOVO\\AppData\\Roaming\\nltk_data...\n",
      "[nltk_data]   Package movie_reviews is already up-to-date!\n"
     ]
    }
   ],
   "source": [
    "#do not change the code in this cell\n",
    "#preliminary imports\n",
    "\n",
    "#set up nltk\n",
    "import nltk\n",
    "nltk.download('punkt')\n",
    "nltk.download('stopwords')\n",
    "nltk.download('movie_reviews')\n",
    "from nltk.corpus import stopwords\n",
    "from nltk.tokenize import word_tokenize\n",
    "from nltk.corpus import movie_reviews\n",
    "\n",
    "\n",
    "#for setting up training and testing data\n",
    "import random\n",
    "\n",
    "#useful other tools\n",
    "import re\n",
    "import pandas as pd\n",
    "import matplotlib.pyplot as plt\n",
    "%matplotlib inline\n",
    "from itertools import zip_longest\n",
    "from nltk.probability import FreqDist\n",
    "from nltk.classify.api import ClassifierI\n"
   ]
  },
  {
   "cell_type": "code",
   "execution_count": null,
   "metadata": {
    "id": "BHBkzAccCVaZ"
   },
   "outputs": [],
   "source": [
    "#do not change the code in this cell\n",
    "def split_data(data, ratio=0.7): # when the second argument is not given, it defaults to 0.7\n",
    "    \"\"\"\n",
    "    Given corpus generator and ratio:\n",
    "     - partitions the corpus into training data and test data, where the proportion in train is ratio,\n",
    "\n",
    "    :param data: A corpus generator.\n",
    "    :param ratio: The proportion of training documents (default 0.7)\n",
    "    :return: a pair (tuple) of lists where the first element of the\n",
    "            pair is a list of the training data and the second is a list of the test data.\n",
    "    \"\"\"\n",
    "\n",
    "    data = list(data)\n",
    "    n = len(data)\n",
    "    train_indices = random.sample(range(n), int(n * ratio))\n",
    "    test_indices = list(set(range(n)) - set(train_indices))\n",
    "    train = [data[i] for i in train_indices]\n",
    "    test = [data[i] for i in test_indices]\n",
    "    return (train, test)\n",
    "\n",
    "\n",
    "def get_train_test_data():\n",
    "\n",
    "    #get ids of positive and negative movie reviews\n",
    "    pos_review_ids=movie_reviews.fileids('pos')\n",
    "    neg_review_ids=movie_reviews.fileids('neg')\n",
    "\n",
    "    #split positive and negative data into training and testing sets\n",
    "    pos_train_ids, pos_test_ids = split_data(pos_review_ids)\n",
    "    neg_train_ids, neg_test_ids = split_data(neg_review_ids)\n",
    "    #add labels to the data and concatenate\n",
    "    training = [(movie_reviews.words(f),'pos') for f in pos_train_ids]+[(movie_reviews.words(f),'neg') for f in neg_train_ids]\n",
    "    testing = [(movie_reviews.words(f),'pos') for f in pos_test_ids]+[(movie_reviews.words(f),'neg') for f in neg_test_ids]\n",
    "\n",
    "    return training, testing"
   ]
  },
  {
   "cell_type": "markdown",
   "metadata": {
    "id": "1N3LWwBYICPP"
   },
   "source": [
    "When you have run the cell below, your unique training and testing samples will be stored in `training_data` and `testing_data`"
   ]
  },
  {
   "cell_type": "code",
   "execution_count": null,
   "metadata": {
    "id": "HJLegkdPFUJA",
    "outputId": "fd9b3346-5f70-4a04-972a-30882e0b46fb"
   },
   "outputs": [
    {
     "name": "stdout",
     "output_type": "stream",
     "text": [
      "The amount of training data is 1400\n",
      "The amount of testing data is 600\n",
      "The representation of a single data item is below\n",
      "(['wong', 'kar', '-', 'wei', \"'\", 's', '\"', 'fallen', ...], 'pos')\n"
     ]
    }
   ],
   "source": [
    "#do not change the code in this cell\n",
    "random.seed(candidateno)\n",
    "training_data,testing_data=get_train_test_data()\n",
    "print(\"The amount of training data is {}\".format(len(training_data)))\n",
    "print(\"The amount of testing data is {}\".format(len(testing_data)))\n",
    "print(\"The representation of a single data item is below\")\n",
    "print(training_data[0])"
   ]
  },
  {
   "cell_type": "markdown",
   "metadata": {
    "id": "RbTq6eGv2XT2"
   },
   "source": [
    "1)  \n",
    "a) **Generate** a list of 10 content words which are representative of the positive reviews in your training data.\n",
    "\n",
    "b) **Generate** a list of 10 content words which are representative of the negative reviews in your training data.\n",
    "\n",
    "c) **Explain** what you have done and why\n",
    "\n",
    "[20\\%]"
   ]
  },
  {
   "cell_type": "code",
   "execution_count": null,
   "metadata": {
    "id": "MWKMnCqEE_Yd",
    "outputId": "d6f9e6ec-efd6-4863-8aae-ac93817e6f9f"
   },
   "outputs": [
    {
     "data": {
      "text/plain": [
       "['wong',\n",
       " 'kar',\n",
       " 'wei',\n",
       " 'fallen',\n",
       " 'angels',\n",
       " 'purely',\n",
       " 'visceral',\n",
       " 'level',\n",
       " 'one',\n",
       " 'exciting',\n",
       " 'films',\n",
       " 'seen',\n",
       " 'long',\n",
       " 'unfortunately',\n",
       " 'wong',\n",
       " 'seems',\n",
       " 'interested',\n",
       " 'experimenting',\n",
       " 'camera',\n",
       " 'creating',\n",
       " 'tangible',\n",
       " 'characters',\n",
       " 'audience',\n",
       " 'root',\n",
       " 'ordinarily',\n",
       " 'alone',\n",
       " 'would',\n",
       " 'enough',\n",
       " 'sink',\n",
       " 'movie',\n",
       " 'case',\n",
       " 'fallen',\n",
       " 'angels',\n",
       " 'every',\n",
       " 'shot',\n",
       " 'film',\n",
       " 'exciting',\n",
       " 'look',\n",
       " 'wong',\n",
       " 'really',\n",
       " 'interesting',\n",
       " 'things',\n",
       " 'camera',\n",
       " 'allow',\n",
       " 'pyrotechnics',\n",
       " 'completely',\n",
       " 'take',\n",
       " 'case',\n",
       " 'last',\n",
       " 'years',\n",
       " 'dismal',\n",
       " 'knock',\n",
       " 'contained',\n",
       " 'shot',\n",
       " 'foot',\n",
       " 'entering',\n",
       " 'shoe',\n",
       " 'ugh',\n",
       " 'movie',\n",
       " 'follows',\n",
       " 'three',\n",
       " 'pairs',\n",
       " 'lost',\n",
       " 'souls',\n",
       " 'struggle',\n",
       " 'find',\n",
       " 'meaning',\n",
       " 'lives',\n",
       " 'say',\n",
       " 'much',\n",
       " 'really',\n",
       " 'know',\n",
       " 'going',\n",
       " 'time',\n",
       " 'fact',\n",
       " 'halfway',\n",
       " 'movie',\n",
       " 'able',\n",
       " 'distinguish',\n",
       " 'character',\n",
       " 'constantly',\n",
       " 'moving',\n",
       " 'camera',\n",
       " 'really',\n",
       " 'allow',\n",
       " 'audience',\n",
       " 'associate',\n",
       " 'one',\n",
       " 'character',\n",
       " 'always',\n",
       " 'kept',\n",
       " 'distance',\n",
       " 'people',\n",
       " 'suppose',\n",
       " 'order',\n",
       " 'add',\n",
       " 'feeling',\n",
       " 'alienation',\n",
       " 'felt',\n",
       " 'characters',\n",
       " 'fallen',\n",
       " 'angels',\n",
       " 'refreshing',\n",
       " 'change',\n",
       " 'pace',\n",
       " 'hollywood',\n",
       " 'films',\n",
       " 'never',\n",
       " 'bother',\n",
       " 'try',\n",
       " 'anything',\n",
       " 'different',\n",
       " 'least',\n",
       " 'visual',\n",
       " 'level',\n",
       " 'fact',\n",
       " 'go',\n",
       " 'far',\n",
       " 'say',\n",
       " 'fallen',\n",
       " 'angels',\n",
       " 'challenging',\n",
       " 'visually',\n",
       " 'mainstream',\n",
       " 'hollywood',\n",
       " 'film',\n",
       " 'ever',\n",
       " 'seen',\n",
       " 'sure',\n",
       " 'directors',\n",
       " 'like',\n",
       " 'robert',\n",
       " 'rodriguez',\n",
       " 'enjoy',\n",
       " 'turning',\n",
       " 'violence',\n",
       " 'operatic',\n",
       " 'orgies',\n",
       " 'death',\n",
       " 'see',\n",
       " 'filmmaker',\n",
       " 'like',\n",
       " 'wong',\n",
       " 'actually',\n",
       " 'assaults',\n",
       " 'senses',\n",
       " 'images',\n",
       " 'truly',\n",
       " 'something',\n",
       " 'worth',\n",
       " 'celebrating',\n",
       " 'wong',\n",
       " 'wishes',\n",
       " 'become',\n",
       " 'legendary',\n",
       " 'filmmaker',\n",
       " 'needs',\n",
       " 'work',\n",
       " 'incorporating',\n",
       " 'actual',\n",
       " 'story',\n",
       " 'awesome',\n",
       " 'images',\n",
       " 'far',\n",
       " 'many',\n",
       " 'instances',\n",
       " 'fallen',\n",
       " 'angels',\n",
       " 'asked',\n",
       " 'people',\n",
       " 'first',\n",
       " 'couple',\n",
       " 'second',\n",
       " 'couple',\n",
       " 'impossible',\n",
       " 'keep',\n",
       " 'track',\n",
       " 'perhaps',\n",
       " 'could',\n",
       " 'let',\n",
       " 'audience',\n",
       " 'know',\n",
       " 'right',\n",
       " 'away',\n",
       " 'character',\n",
       " 'introducing',\n",
       " 'us',\n",
       " 'name',\n",
       " 'cards',\n",
       " 'scorsese',\n",
       " 'mean',\n",
       " 'streets',\n",
       " 'really',\n",
       " 'besides',\n",
       " 'point',\n",
       " 'though',\n",
       " 'wong',\n",
       " 'kar',\n",
       " 'wei',\n",
       " 'proven',\n",
       " 'films',\n",
       " 'movie',\n",
       " 'maker',\n",
       " 'watch',\n",
       " 'let',\n",
       " 'hope',\n",
       " 'hones',\n",
       " 'storytelling',\n",
       " 'skills',\n",
       " 'next',\n",
       " 'movies']"
      ]
     },
     "execution_count": 5,
     "metadata": {},
     "output_type": "execute_result"
    }
   ],
   "source": [
    "def norm_review(data):\n",
    "    low_cased = []\n",
    "    for item in data:\n",
    "        low_cased.append(item.lower())\n",
    "    nostop = []\n",
    "    for item in low_cased:\n",
    "        if item.isalpha() and item not in stopwords.words('english'):\n",
    "            nostop.append(item)\n",
    "    return nostop\n",
    "norm_review(training_data[0][0])\n",
    "\n",
    "train_data=[(FreqDist(norm_review(item[0])),item[1]) for item in training_data]\n",
    "test_data=[(FreqDist(norm_review(item[0])),item[1]) for item in testing_data]\n",
    "\n",
    "pos_fcount=FreqDist()\n",
    "neg_fcount=FreqDist()\n",
    "\n",
    "for item,name in train_data:\n",
    "    if name=='pos':\n",
    "        pos_fcount+=item\n",
    "    else:\n",
    "        neg_fcount+=item\n",
    "p_diff = pos_fcount - neg_fcount\n",
    "n_diff = neg_fcount - pos_fcount"
   ]
  },
  {
   "cell_type": "markdown",
   "metadata": {
    "id": "CLYNg5-iE_Ye"
   },
   "source": [
    "a) List of 10 content words which are representative of the **positive** reviewsin the  training data."
   ]
  },
  {
   "cell_type": "code",
   "execution_count": null,
   "metadata": {
    "id": "JXHrtNCg2XT4",
    "outputId": "4c1ea8da-0359-416d-c5d6-3ab9f9172cc1"
   },
   "outputs": [
    {
     "name": "stdout",
     "output_type": "stream",
     "text": [
      "['film', 'also', 'life', 'great', 'well', 'best', 'story', 'world', 'one', 'many']\n"
     ]
    }
   ],
   "source": [
    "def majority_common_pos(posfreqencies,negfreqencies,peakn):\n",
    "    diff=posfreqencies-negfreqencies\n",
    "    sort_diff=diff.most_common()\n",
    "    words=[item for (item,count) in sort_diff[:peakn]]\n",
    "    return words\n",
    "\n",
    "pos_peak=majority_common_pos(pos_fcount,neg_fcount,10)\n",
    "print(pos_peak)"
   ]
  },
  {
   "cell_type": "markdown",
   "metadata": {
    "id": "QJRLGIqtE_Yf"
   },
   "source": [
    "b) List of 10 content words which are representative of the **negative** reviews in the training data."
   ]
  },
  {
   "cell_type": "code",
   "execution_count": null,
   "metadata": {
    "id": "v0REToyFE_Yf",
    "outputId": "2f70a528-34f8-4002-cfe1-efd3acad8d3c"
   },
   "outputs": [
    {
     "name": "stdout",
     "output_type": "stream",
     "text": [
      "['movie', 'bad', 'plot', 'even', 'worst', 'nothing', 'least', 'script', 'could', 'boring']\n"
     ]
    }
   ],
   "source": [
    "def majority_common_neg(negfreqencies,posfreqencies,peakn):\n",
    "    diff=negfreqencies-posfreqencies\n",
    "    sort_diff=diff.most_common()\n",
    "    words=[item for (item,count) in sort_diff[:peakn]]\n",
    "    return words\n",
    "\n",
    "neg_peak=majority_common_neg(neg_fcount,pos_fcount,10)\n",
    "print(neg_peak)"
   ]
  },
  {
   "cell_type": "markdown",
   "metadata": {
    "id": "iKLRZuEWE_Yf"
   },
   "source": [
    " c) **explanation**"
   ]
  },
  {
   "cell_type": "markdown",
   "metadata": {
    "id": "VkxW621xE_Yg"
   },
   "source": [
    "***norm_review()** function which lowercase's and remove's the stopwords in the given data.The inbuilt function **FreqDist()** in nltk gives  the frequencies of the words.     \n",
    "*By applying the both above mentioned functions on the training and testing data then I got  **normalised data** with frequencies .  \n",
    "*After that I stored positive , negative instance(labelled word) frequencies in **pos_fcount and neg_fcount** variable's respectively.  \n",
    "*With the use of **majority_common_pos and majority_common_neg** functions which takes pos_fcount and neg_fcount as arguments and **generates the list of 10 content words** which are representative of the positive ,negative reviews in the training data respectively.  \n",
    "*I have done this to divide the positive and negative categories from the movie reviews and selecting the 10  commonly used words in each category .Which are best representative of positive and negative **sentiment** of the movie reviews.It's help to know the what kind of language is linked with negative and positive opinions about movies."
   ]
  },
  {
   "cell_type": "markdown",
   "metadata": {
    "id": "keJGsM7kE_Yg"
   },
   "source": []
  },
  {
   "cell_type": "markdown",
   "metadata": {
    "id": "TApOQE6vND20"
   },
   "source": [
    "2)\n",
    "a) **Use** the lists generated in Q1 to build a **word list classifier** which will classify reviews as being positive or negative.\n",
    "\n",
    "b) **Explain** what you have done.\n",
    "\n",
    "[12.5\\%]\n"
   ]
  },
  {
   "cell_type": "markdown",
   "metadata": {
    "id": "nUa5bYk_E_Yg"
   },
   "source": [
    "# 2 a) word list classifier"
   ]
  },
  {
   "cell_type": "code",
   "execution_count": null,
   "metadata": {
    "id": "BThDMrcmODJy"
   },
   "outputs": [],
   "source": [
    "class ListOfWordClassify(ClassifierI):\n",
    "\n",
    "    def __init__(self, positive, negative):\n",
    "        self.pos = positive\n",
    "        self.neg = negative\n",
    "\n",
    "    def classify(self, review):\n",
    "        marks = 0\n",
    "        for word,value in review.items():\n",
    "            if word in self.pos:\n",
    "                marks+=value\n",
    "            if word in self.neg:\n",
    "                marks-=value\n",
    "\n",
    "        if marks > 0 :\n",
    "            return \"pos\"\n",
    "        else:\n",
    "            return \"neg\"\n",
    "\n",
    "    def classes(self):\n",
    "        return (\"pos\", \"neg\")"
   ]
  },
  {
   "cell_type": "code",
   "execution_count": null,
   "metadata": {
    "id": "E9xepXcHE_Yh",
    "outputId": "293258bf-1f51-4f1f-bbb7-bced5c1f7ca9"
   },
   "outputs": [
    {
     "name": "stdout",
     "output_type": "stream",
     "text": [
      "pos\n",
      "neg\n"
     ]
    }
   ],
   "source": [
    "classifier = ListOfWordClassify(pos_peak, neg_peak)\n",
    "print(classifier.classify(FreqDist(\"the film was great\".split())))# example for positive review\n",
    "print(classifier.classify(FreqDist(\"the movie was worst\".split())))# example for negative review"
   ]
  },
  {
   "cell_type": "markdown",
   "metadata": {
    "id": "uFhpkwXRE_Yh"
   },
   "source": [
    "2. b)**explanation**\n"
   ]
  },
  {
   "cell_type": "markdown",
   "metadata": {
    "id": "Ol0z9PKkE_Yh"
   },
   "source": [
    "*I have created a **Binary Classifier** which classifies the given data as Positive or Negative review.  \n",
    "***ListOfWordClassify** is a class **inherited from ClassifierI in NLTK**. The **classify()** method in the class will classifies the reviews into positive or negative.  \n",
    "*If the frequency count of words are **greater than 0** then it classifies as positive review or **lesser than 0** as negative review.  \n",
    "***classes()** method is used to give labels to reviews."
   ]
  },
  {
   "cell_type": "markdown",
   "metadata": {
    "id": "C6vK5Vyz2XUF"
   },
   "source": []
  },
  {
   "cell_type": "markdown",
   "metadata": {
    "id": "YZdDO_Y92XUH"
   },
   "source": [
    "3)\n",
    "a) **Calculate** the accuracy, precision, recall and F1 score of your classifier.\n",
    "\n",
    "b) Is it reasonable to evaluate the classifier in terms of its accuracy?  **Explain** your answer and give a counter-example (a scenario where it would / would not be reasonable to evaluate the classifier in terms of its accuracy).\n",
    "\n",
    "[20\\%]"
   ]
  },
  {
   "cell_type": "markdown",
   "metadata": {
    "id": "ilDgZ00VE_Yi"
   },
   "source": [
    "# 3 a)The accuracy, precision, recall and F1 score of word list classifier."
   ]
  },
  {
   "cell_type": "code",
   "execution_count": null,
   "metadata": {
    "id": "WILUeQulE_Yi"
   },
   "outputs": [],
   "source": [
    "from nltk.classify.api import ClassifierI\n",
    "def accuracy_cal(cls, t_data):\n",
    "    accuracy = 0\n",
    "    review,original=zip(*t_data)\n",
    "    predictions=cls.classify_many(review)\n",
    "    for prediction,orglabel in zip(predictions,original):\n",
    "        if prediction==orglabel:\n",
    "            accuracy+=1\n",
    "\n",
    "    return accuracy / (len(t_data))\n",
    "\n",
    "class Evaluater:\n",
    "    def __init__(self, predictions, original, labels=(\"pos\", \"neg\")):\n",
    "        (self.lab1, self.lab2) = labels\n",
    "        self.TP = 0\n",
    "        self.FP = 0\n",
    "        self.FN = 0\n",
    "        self.TN = 0\n",
    "        for pred, org in zip(predictions, original):\n",
    "            if org == self.lab1:\n",
    "                if pred == self.lab1:\n",
    "                    self.TP += 1\n",
    "                else:\n",
    "                    self.FN += 1\n",
    "            elif pred == self.lab1:\n",
    "                self.FP += 1\n",
    "            else:\n",
    "                self.TN += 1\n",
    "\n",
    "    def _precision(self):\n",
    "        prec = self.TP / (self.TP + self.FP)\n",
    "        return prec\n",
    "\n",
    "    def _recall(self):\n",
    "        rec = self.TP / (self.TP + self.FN)\n",
    "        return rec\n",
    "\n",
    "    def _f1(self):\n",
    "        prec = self._precision()\n",
    "        rec = self._recall()\n",
    "        f1 = (2 * prec * rec) / (prec + rec)\n",
    "        return f1"
   ]
  },
  {
   "cell_type": "code",
   "execution_count": null,
   "metadata": {
    "id": "0_xzJKrjE_Yi",
    "outputId": "bca8ae64-52a2-4bb3-da91-7f39bb3c8cb6"
   },
   "outputs": [
    {
     "name": "stdout",
     "output_type": "stream",
     "text": [
      "Accuracy: 0.6433333333333333\n",
      "Precision: 0.5964125560538116\n",
      "Recall: 0.8866666666666667\n",
      "F1 Score: 0.7131367292225201\n"
     ]
    }
   ],
   "source": [
    "review,original = zip(*test_data)\n",
    "predictions = classifier.classify_many(review)\n",
    "evaluater = Evaluater(predictions, original)\n",
    "accuracy = accuracy_cal(classifier,test_data)\n",
    "wc_precision = evaluater._precision()\n",
    "wc_recall = evaluater._recall()\n",
    "wc_f1_score = evaluater._f1()\n",
    "\n",
    "print(f\"Accuracy: {accuracy}\")\n",
    "print(f\"Precision: {wc_precision}\")\n",
    "print(f\"Recall: {wc_recall}\")\n",
    "print(f\"F1 Score: {wc_f1_score}\")"
   ]
  },
  {
   "cell_type": "markdown",
   "metadata": {
    "id": "8gL3rPzdE_Yj"
   },
   "source": [
    "3. b) explanation"
   ]
  },
  {
   "cell_type": "markdown",
   "metadata": {
    "id": "UN41o-sJE_Yj"
   },
   "source": [
    "*It's reasonable to evaluate the accuracy of a classifier if the classes in the dataset are **balanced**.Accuracy gives the correctness of the classifier we are working with.  \n",
    "*scenrio where we need to reasonable evaluate the accuracy is when we have balanced classes as almost same number of positive and negative instances.For instance, having 70 positive and negative instances each then the classifier  predicts correctly 50 positive and 50 negative reviews, the accuracy comes to be 75% .  \n",
    "*contrary, to that it's not reasonable in imbalanced classes.Accuracy might be not a good measure in terms of **imbalanced classes**.For example, having 80 positive instances and 20 negative instances, it predicts all instances as positive which have accuracy of 80% but it is **failing to classify the negative classes**.  \n",
    "*In terms of imbalanced classes **precision,recall and F1 score** gives  more detailed view of classifier otherthan **accuracy alone**.   \n"
   ]
  },
  {
   "cell_type": "markdown",
   "metadata": {
    "id": "AVZp0N5J2XUL"
   },
   "source": []
  },
  {
   "cell_type": "markdown",
   "metadata": {
    "id": "LIS9UpmJNEAp"
   },
   "source": [
    "4)\n",
    "a)  **Construct** a Naive Bayes classifier (e.g., from NLTK).\n",
    "\n",
    "b)  **Compare** the performance of your word list classifier with the Naive Bayes classifier.  **Discuss** your results.\n",
    "\n",
    "[12.5\\%]"
   ]
  },
  {
   "cell_type": "markdown",
   "metadata": {
    "id": "NM2sln7XE_Yk"
   },
   "source": [
    "# 4 a)Naive Bayes classifier."
   ]
  },
  {
   "cell_type": "code",
   "execution_count": null,
   "metadata": {
    "id": "BQIAdmpmE_Yk",
    "outputId": "9fe983fe-bd18-47c3-e5df-16b706211076"
   },
   "outputs": [
    {
     "name": "stdout",
     "output_type": "stream",
     "text": [
      "precision : 0.6413043478260869\n",
      "Recall : 0.9833333333333333\n",
      "F1 score : 0.7763157894736841\n"
     ]
    }
   ],
   "source": [
    "from nltk.classify import NaiveBayesClassifier\n",
    "train_fit = NaiveBayesClassifier.train(train_data)\n",
    "out_naiveb =train_fit.classify_many(review)\n",
    "\n",
    "eva_naiveb = Evaluater(out_naiveb,original)\n",
    "nai_precision = eva_naiveb._precision()\n",
    "print(\"precision :\",eva_naiveb._precision())\n",
    "nai_recall = eva_naiveb._recall()\n",
    "print(\"Recall :\",eva_naiveb._recall())\n",
    "nai_f1_score = eva_naiveb._f1()\n",
    "print(\"F1 score :\",eva_naiveb._f1())\n"
   ]
  },
  {
   "cell_type": "markdown",
   "metadata": {
    "id": "7Y2V--4PE_Yk"
   },
   "source": [
    "4. b) comparing the results of  word list classifier and naive bayes classifier."
   ]
  },
  {
   "cell_type": "code",
   "execution_count": null,
   "metadata": {
    "id": "4wPFwpPoE_Yk",
    "outputId": "5d808c7f-8b62-494e-b5a2-92b8be1d8187"
   },
   "outputs": [
    {
     "name": "stdout",
     "output_type": "stream",
     "text": [
      "the compared results of word list classifier and Naive Bayes classifier as follows {'List of words classifier': [0.5964125560538116, 0.8866666666666667, 0.7131367292225201], 'Naive Bayes classifier': [0.6413043478260869, 0.9833333333333333, 0.7763157894736841], 'compared results': [-0.044891791772275313, -0.09666666666666657, -0.06317906025116393]}\n"
     ]
    }
   ],
   "source": [
    "precision_com = wc_precision - nai_precision\n",
    "recall_com = wc_recall - nai_recall\n",
    "f1_score_com = wc_f1_score - nai_f1_score\n",
    "\n",
    "dic = {\"List of words classifier\":[wc_precision,wc_recall,wc_f1_score],\"Naive Bayes classifier\":[nai_precision,nai_recall,nai_f1_score],\"compared results\" :[precision_com,recall_com,f1_score_com]}\n",
    "print(\"the individual and compared results of word list classifier and Naive Bayes classifier as follows\",dic)"
   ]
  },
  {
   "cell_type": "code",
   "execution_count": null,
   "metadata": {
    "id": "gqOhYvxxE_Yl",
    "outputId": "c2dfacc2-017f-493b-e365-013420fe79c0"
   },
   "outputs": [
    {
     "data": {
      "text/html": [
       "<div>\n",
       "<style scoped>\n",
       "    .dataframe tbody tr th:only-of-type {\n",
       "        vertical-align: middle;\n",
       "    }\n",
       "\n",
       "    .dataframe tbody tr th {\n",
       "        vertical-align: top;\n",
       "    }\n",
       "\n",
       "    .dataframe thead th {\n",
       "        text-align: right;\n",
       "    }\n",
       "</style>\n",
       "<table border=\"1\" class=\"dataframe\">\n",
       "  <thead>\n",
       "    <tr style=\"text-align: right;\">\n",
       "      <th></th>\n",
       "      <th>List of words classifier</th>\n",
       "      <th>Naive Bayes classifier</th>\n",
       "      <th>compared results</th>\n",
       "    </tr>\n",
       "  </thead>\n",
       "  <tbody>\n",
       "    <tr>\n",
       "      <th>precision</th>\n",
       "      <td>0.596413</td>\n",
       "      <td>0.641304</td>\n",
       "      <td>-0.044892</td>\n",
       "    </tr>\n",
       "    <tr>\n",
       "      <th>recall</th>\n",
       "      <td>0.886667</td>\n",
       "      <td>0.983333</td>\n",
       "      <td>-0.096667</td>\n",
       "    </tr>\n",
       "    <tr>\n",
       "      <th>f1_score</th>\n",
       "      <td>0.713137</td>\n",
       "      <td>0.776316</td>\n",
       "      <td>-0.063179</td>\n",
       "    </tr>\n",
       "  </tbody>\n",
       "</table>\n",
       "</div>"
      ],
      "text/plain": [
       "           List of words classifier  Naive Bayes classifier  compared results\n",
       "precision                  0.596413                0.641304         -0.044892\n",
       "recall                     0.886667                0.983333         -0.096667\n",
       "f1_score                   0.713137                0.776316         -0.063179"
      ]
     },
     "execution_count": 60,
     "metadata": {},
     "output_type": "execute_result"
    }
   ],
   "source": [
    "dataframe = pd.DataFrame(dic,index =[\"precision\",'recall',\"f1_score\"] )\n",
    "dataframe"
   ]
  },
  {
   "cell_type": "markdown",
   "metadata": {
    "id": "0-PyXflqE_Yl"
   },
   "source": [
    "# results discussion"
   ]
  },
  {
   "cell_type": "markdown",
   "metadata": {
    "id": "s8N356zNE_Yl"
   },
   "source": [
    "*As we can see the **precision(0.596413)** of word list classifier is lesserthan the precision of **Naive Bayes classifier(0.641304)** almost **5%** .  \n",
    "*In terms of **recall(0.886667)** of word list classifier again it's around **10%** smaller than the recall of Naive Bayes classifier **(0.983333)**.  \n",
    "***F1_score of Naive Bayes classifier(0.776316)** is **6%** greater than the list of word classifier **F1_score(0.713137)**.\n",
    "*In all aspects the Naive bayes classifier had **higher percentage** than word list classifier."
   ]
  },
  {
   "cell_type": "markdown",
   "metadata": {
    "id": "bytPkuHf2XUO"
   },
   "source": []
  },
  {
   "cell_type": "markdown",
   "metadata": {
    "id": "LGDXaVDqOSfY"
   },
   "source": [
    "5)\n",
    "a) Design and **carry out an experiment** into the impact of the **length of the wordlists** on the wordlist classifier.  Make sure you **describe** design decisions in your experiment, include a **graph** of your results and **discuss** your conclusions.\n",
    "\n",
    "b) Would you **recommend** a wordlist classifier or a Naive Bayes classifier for future work in this area?  **Justify** your answer.\n",
    "\n",
    "[25\\%]\n"
   ]
  },
  {
   "cell_type": "markdown",
   "metadata": {
    "id": "UlxoUthX2XUP"
   },
   "source": []
  },
  {
   "cell_type": "markdown",
   "metadata": {
    "id": "9m6aX7oOE_Yq"
   },
   "source": [
    "# 5 a)impact of the length of the wordlists on the wordlist classifier."
   ]
  },
  {
   "cell_type": "code",
   "execution_count": null,
   "metadata": {
    "id": "T1L7mZ-k2XUQ"
   },
   "outputs": [],
   "source": [
    "acc = []\n",
    "pre = []\n",
    "rec =[]\n",
    "f1s = []\n",
    "for i in range(1,101):\n",
    "    pos_peak = [k[0] for k in p_diff.most_common(i)]\n",
    "    neg_peak = [k[0] for k in n_diff.most_common(i)]\n",
    "    cl = ListOfWordClassify(pos_peak,neg_peak)\n",
    "    pred = cl.classify_many(review)\n",
    "    ev = Evaluater(pred,original)\n",
    "    acc.append(accuracy_cal(cl,test_data))\n",
    "    pre.append(ev._precision())\n",
    "    rec.append(ev._recall())\n",
    "    f1s.append(ev._f1())\n",
    "\n"
   ]
  },
  {
   "cell_type": "code",
   "execution_count": null,
   "metadata": {
    "id": "xFeOWIRm2XUQ",
    "outputId": "b841a405-b833-4522-c329-905b78561552"
   },
   "outputs": [
    {
     "data": {
      "image/png": "[encoded data removed]",
      "text/plain": [
       "<Figure size 640x480 with 1 Axes>"
      ]
     },
     "metadata": {},
     "output_type": "display_data"
    }
   ],
   "source": [
    "len_listofwords = list(range(1,101))\n",
    "plt.plot(len_listofwords,acc,label = \"accuracy\",color = \"blue\")\n",
    "plt.xlabel(\"length of word list\")\n",
    "plt.legend()\n",
    "plt.show()"
   ]
  },
  {
   "cell_type": "markdown",
   "metadata": {
    "id": "gCI9vfZsE_Yr"
   },
   "source": [
    "*As the length of  the words is at 0 to 10 there is rapid increase in the accuracy from 10 to 25 there is many fluctuations.\n",
    "*after 25 to 40 there is more depression in the accuracy of the data .  \n",
    "*from 80 to 100 words there is peak increase in the accuracy with small fluctuations."
   ]
  },
  {
   "cell_type": "code",
   "execution_count": null,
   "metadata": {
    "id": "thb5yB30E_Yr",
    "outputId": "29ffe729-fd46-4481-a74f-d952148b0403"
   },
   "outputs": [
    {
     "data": {
      "image/png": "[encoded data removed]",
      "text/plain": [
       "<Figure size 640x480 with 1 Axes>"
      ]
     },
     "metadata": {},
     "output_type": "display_data"
    }
   ],
   "source": [
    "len_listofwords = list(range(1,101))\n",
    "plt.plot(len_listofwords,pre,label = \"precision\",color = \"orange\")\n",
    "plt.xlabel(\"length of word list\")\n",
    "plt.legend()\n",
    "plt.show()"
   ]
  },
  {
   "cell_type": "markdown",
   "metadata": {
    "id": "PpJ9GUqDE_Ys"
   },
   "source": [
    "*As the length of  the words is at 0 to 15 there is rapid increase in the precision from 15 to 30 there is many fluctuations.\n",
    "*after 30 to 50 there is more depression in the precision of the data .  \n",
    "*from 80 to 100 words there is peak increase in the precision with some fluctuations."
   ]
  },
  {
   "cell_type": "code",
   "execution_count": null,
   "metadata": {
    "id": "o9mo1WDnE_Ys",
    "outputId": "c90ac58d-d165-4a52-8d11-d92f094d01d3"
   },
   "outputs": [
    {
     "data": {
      "image/png": "[encoded data removed]",
      "text/plain": [
       "<Figure size 640x480 with 1 Axes>"
      ]
     },
     "metadata": {},
     "output_type": "display_data"
    }
   ],
   "source": [
    "len_listofwords = list(range(1,101))\n",
    "plt.plot(len_listofwords,rec,label = \"recall\",color = \"green\")\n",
    "plt.xlabel(\"length of word list\")\n",
    "plt.legend()\n",
    "plt.show()"
   ]
  },
  {
   "cell_type": "markdown",
   "metadata": {
    "id": "a7MGirXQE_Ys"
   },
   "source": [
    "*As the length of  the words is at 0 to 10 there is rapid increase in the recall from 10 to 100 there is many fluctuations.   \n",
    "*.there is steadly constant throughout the 10 to 100 words"
   ]
  },
  {
   "cell_type": "code",
   "execution_count": null,
   "metadata": {
    "id": "5RM07BsbE_Ys",
    "outputId": "da24d211-1ce0-4190-a0b3-6fadd2c9baa7"
   },
   "outputs": [
    {
     "data": {
      "image/png": "[encoded data removed]",
      "text/plain": [
       "<Figure size 640x480 with 1 Axes>"
      ]
     },
     "metadata": {},
     "output_type": "display_data"
    }
   ],
   "source": [
    "len_listofwords = list(range(1,101))\n",
    "plt.plot(len_listofwords,f1s,label = \"F1_score\",color = \"red\")\n",
    "plt.xlabel(\"length of word list\")\n",
    "plt.legend()\n",
    "plt.show()"
   ]
  },
  {
   "cell_type": "markdown",
   "metadata": {
    "id": "GspYOmaXE_Yt"
   },
   "source": [
    "*As the length of  the words is at 0 to 20 there is rapid increase in the f1 from 10 to 25 there is many fluctuations.\n",
    "*after 40  to 60 there is some depressions in the f1 of the data .  \n",
    "*from 80 to 100 words there is someincrease in the f1 with small fluctuations."
   ]
  },
  {
   "cell_type": "markdown",
   "metadata": {
    "id": "c58P62ePE_Yt"
   },
   "source": [
    "5.b) my recommendation"
   ]
  },
  {
   "cell_type": "markdown",
   "metadata": {
    "id": "0g48Vve-E_Yt"
   },
   "source": [
    "*I would recommend a Naive Bayes classifier otherthan the word list classifier for future work in sentimental analysis.  \n",
    "*As we can see the precision,recall and F1_score of the Naive Bayes classifier is more than as compared to word list classifier.\n",
    "*for dealing with complex sentiment analysis task , the naive bayes classifier performs better on unseen data so, a Naive Bayes classifier is best for works in sentiment analysis."
   ]
  },
  {
   "cell_type": "markdown",
   "metadata": {
    "id": "Ym-TGvYS2XUR"
   },
   "source": []
  },
  {
   "cell_type": "code",
   "execution_count": null,
   "metadata": {
    "colab": {
     "base_uri": "https://localhost:8080/"
    },
    "id": "34rdlS_iPov6",
    "outputId": "5465e8f3-ec02-4ff6-b326-0bf15c507b73"
   },
   "outputs": [
    {
     "name": "stdout",
     "output_type": "stream",
     "text": [
      "Drive already mounted at /content/drive; to attempt to forcibly remount, call drive.mount(\"/content/drive\", force_remount=True).\n",
      "Submission length is 0\n"
     ]
    }
   ],
   "source": [
    "##This code will word count all of the markdown cells in the notebook saved at filepath\n",
    "\n",
    "import io\n",
    "from nbformat import current\n",
    "\n",
    "from google.colab import drive\n",
    "drive.mount('/content/drive')\n",
    "\n",
    "filepath=\"/content/drive/MyDrive/Colab Notebooks/ANLPassignment2023.ipynb\"\n",
    "question_count=432\n",
    "\n",
    "with io.open(filepath, 'r', encoding='utf-8') as f:\n",
    "    nb = current.read(f, 'json')\n",
    "\n",
    "word_count = 0\n",
    "for cell in nb.worksheets[0].cells:\n",
    "    if cell.cell_type == \"markdown\":\n",
    "        word_count += len(cell['source'].replace('#', '').lstrip().split(' '))\n",
    "print(\"Submission length is {}\".format(word_count-question_count))"
   ]
  }
 ],
 "metadata": {
  "colab": {
   "provenance": []
  },
  "kernelspec": {
   "display_name": "Python 3 (ipykernel)",
   "language": "python",
   "name": "python3"
  },
  "language_info": {
   "codemirror_mode": {
    "name": "ipython",
    "version": 3
   },
   "file_extension": ".py",
   "mimetype": "text/x-python",
   "name": "python",
   "nbconvert_exporter": "python",
   "pygments_lexer": "ipython3",
   "version": "3.11.5"
  }
 },
 "nbformat": 4,
 "nbformat_minor": 1
}
